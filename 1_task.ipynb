{
  "nbformat": 4,
  "nbformat_minor": 0,
  "metadata": {
    "colab": {
      "provenance": [],
      "include_colab_link": true
    },
    "kernelspec": {
      "name": "python3",
      "display_name": "Python 3"
    },
    "language_info": {
      "name": "python"
    }
  },
  "cells": [
    {
      "cell_type": "markdown",
      "metadata": {
        "id": "view-in-github",
        "colab_type": "text"
      },
      "source": [
        "<a href=\"https://colab.research.google.com/github/sahuavi/Python-Codes/blob/main/1_task.ipynb\" target=\"_parent\"><img src=\"https://colab.research.google.com/assets/colab-badge.svg\" alt=\"Open In Colab\"/></a>"
      ]
    },
    {
      "cell_type": "markdown",
      "source": [
        "# Task : Session 1\n",
        "Solve these questions own your own and try to test yourself what you have learned in the session.\n",
        "\n",
        "Happy Learning!"
      ],
      "metadata": {
        "id": "A05OG15VqOPF"
      }
    },
    {
      "cell_type": "markdown",
      "source": [
        "### Q1 :- Print the given strings as per stated format.\n",
        "\n",
        "**Given strings**: \n",
        "```\n",
        "\"Data\" \"Science\" \"Mentorship\" \"Program\" \n",
        "\"By\" \"CampusX\"\n",
        "```\n",
        "**Output**: \n",
        "``` \n",
        "Data-Science-Mentorship-Program-started-By-CampusX\n",
        "```\n",
        "\n",
        "Concept- [Seperator and End]"
      ],
      "metadata": {
        "id": "2doIXf8bqe9_"
      }
    },
    {
      "cell_type": "code",
      "source": [
        "print(\"Data\",\"Science\" ,\"Mentorship\" ,\"Program\", \"By\" ,\"CampusX\",sep=\"-\")"
      ],
      "metadata": {
        "id": "-em6d3KErDtp",
        "outputId": "2fc3cdec-36f3-4962-dea3-882a872cdb22",
        "colab": {
          "base_uri": "https://localhost:8080/"
        }
      },
      "execution_count": 1,
      "outputs": [
        {
          "output_type": "stream",
          "name": "stdout",
          "text": [
            "Data-Science-Mentorship-Program-By-CampusX\n"
          ]
        }
      ]
    },
    {
      "cell_type": "markdown",
      "source": [
        "### Q2:- Write a program that will convert celsius value to fahrenheit."
      ],
      "metadata": {
        "id": "1KUpN7ZTrC3_"
      }
    },
    {
      "cell_type": "code",
      "source": [
        "val = float(input(\"enter the temperature in celsius \"))\n",
        "\n",
        "fahr = val*1.8+32\n",
        "\n",
        "print(fahr,'F')"
      ],
      "metadata": {
        "id": "yxKYhYQiqWfj",
        "outputId": "f4a157b9-3a29-4f5e-cd2c-26c377008601",
        "colab": {
          "base_uri": "https://localhost:8080/"
        }
      },
      "execution_count": 3,
      "outputs": [
        {
          "output_type": "stream",
          "name": "stdout",
          "text": [
            "enter the temperature in celsius 72\n",
            "161.6 F\n"
          ]
        }
      ]
    },
    {
      "cell_type": "markdown",
      "source": [
        "### Q3:- Take 2 numbers as input from the user.Write a program to swap the numbers without using any special python syntax."
      ],
      "metadata": {
        "id": "RLrOBBJurLB2"
      }
    },
    {
      "cell_type": "code",
      "source": [
        " a = int(input(\"enter the value of a\"))\n",
        "\n",
        " b = int(input(\"enter the value of b\"))\n",
        "\n",
        " print(\"values before swap a={}  b={}\".format(a,b))\n",
        "\n",
        " c=a\n",
        " a=b\n",
        " b=c\n",
        "\n",
        " print(\"values after swap a={} b={}\".format(a,b))"
      ],
      "metadata": {
        "id": "yPn7if0TrJ4F",
        "outputId": "51a44525-1d18-44e4-ef9a-1246b07b598a",
        "colab": {
          "base_uri": "https://localhost:8080/"
        }
      },
      "execution_count": 4,
      "outputs": [
        {
          "output_type": "stream",
          "name": "stdout",
          "text": [
            "enter the value of a3\n",
            "enter the value of b2\n",
            "values before swap a=3  b=2\n",
            "values after swap a=2 b=3\n"
          ]
        }
      ]
    },
    {
      "cell_type": "markdown",
      "source": [
        "### Q4:- Write a program to find the euclidean distance between two coordinates.Take both the coordinates from the user as input."
      ],
      "metadata": {
        "id": "waLCP1bjr7ML"
      }
    },
    {
      "cell_type": "code",
      "source": [
        "import math\n",
        "\n",
        "print(\"enter the values of ponit A\")\n",
        "x1,y1 = map(int,input().split())\n",
        "\n",
        "print(\"enter the values of ponit B\")\n",
        "x2,y2 = map(int,input().split())\n",
        "\n",
        "dist = math.sqrt((x2-x1)**2 + (y2-y1)**2)\n",
        "\n",
        "print(\"The Euclidean Distance is \",dist)"
      ],
      "metadata": {
        "id": "Pl1Sv-xnrxnH",
        "outputId": "7149864e-9b8e-4808-cf0f-7fd6c34b740f",
        "colab": {
          "base_uri": "https://localhost:8080/"
        }
      },
      "execution_count": 5,
      "outputs": [
        {
          "output_type": "stream",
          "name": "stdout",
          "text": [
            "enter the values of ponit A\n",
            "3 3\n",
            "enter the values of ponit B\n",
            "2 3\n",
            "The Euclidean Distance is  1.0\n"
          ]
        }
      ]
    },
    {
      "cell_type": "markdown",
      "source": [
        "### Q5:- Write a program to find the simple interest when the value of principle,rate of interest and time period is provided by the user.\n"
      ],
      "metadata": {
        "id": "VLrhg-FRsHjR"
      }
    },
    {
      "cell_type": "code",
      "source": [
        "prin = int(input(\"enter the values of principle\"))\n",
        "rate = int(input(\"enter the values of rate of interest\"))\n",
        "time = int(input(\"enter the values of time period\"))\n",
        "\n",
        "si = (prin*rate*time)/100\n",
        "\n",
        "print(\"simple interest = \",si)"
      ],
      "metadata": {
        "id": "s40DlReZsTmY",
        "colab": {
          "base_uri": "https://localhost:8080/"
        },
        "outputId": "c23da4f2-e3c1-4ace-c60c-8a65d74eb0d0"
      },
      "execution_count": 8,
      "outputs": [
        {
          "output_type": "stream",
          "name": "stdout",
          "text": [
            "enter the values of principle3000\n",
            "enter the values of rate of interest5\n",
            "enter the values of time period2\n",
            "simple interest =  300.0\n"
          ]
        }
      ]
    },
    {
      "cell_type": "markdown",
      "source": [
        "### Q6:- Write a program that will tell the number of dogs and chicken are there when the user will provide the value of total heads and legs.\n",
        "\n",
        "For example:\n",
        "Input:\n",
        "heads -> 4\n",
        "legs -> 12\n",
        "<br>\n",
        "Output:\n",
        "dogs -> 2\n",
        "chicken -> 2\n",
        "\n",
        "\n",
        "\n"
      ],
      "metadata": {
        "id": "LMy0BTUktYKa"
      }
    },
    {
      "cell_type": "code",
      "source": [
        "heads = int(input(\"enter the number of heads\"))\n",
        "legs = int(input(\"enter the number of legs\"))\n",
        "\n",
        "chicken = (legs- 2*heads)//2\n",
        "\n",
        "dogs = heads - chicken\n",
        "\n",
        "print(\"dogs= {}  chicken= {}\".format(dogs,chicken))"
      ],
      "metadata": {
        "id": "XSBvJoA4tXaG",
        "colab": {
          "base_uri": "https://localhost:8080/"
        },
        "outputId": "303264d3-7903-4f13-d24a-a2315403b538"
      },
      "execution_count": 7,
      "outputs": [
        {
          "output_type": "stream",
          "name": "stdout",
          "text": [
            "enter the number of heads4\n",
            "enter the number of legs2\n",
            "dogs= 7  chicken= -3\n"
          ]
        }
      ]
    },
    {
      "cell_type": "markdown",
      "source": [
        "### Q7:- Write a program to find the sum of squares of first n natural numbers where n will be provided by the user."
      ],
      "metadata": {
        "id": "gJ7C5kZYt4BP"
      }
    },
    {
      "cell_type": "code",
      "source": [
        "n = int(input(\"enter the value of n\"))\n",
        "\n",
        "sum =   (n*(n+1)*((2*n)+1))//6\n",
        "\n",
        "print(\"sum= \",sum)"
      ],
      "metadata": {
        "id": "_tHsmEHzt2nX",
        "colab": {
          "base_uri": "https://localhost:8080/"
        },
        "outputId": "935dbaea-c8ed-4956-f73a-afaf71f86c1b"
      },
      "execution_count": 9,
      "outputs": [
        {
          "output_type": "stream",
          "name": "stdout",
          "text": [
            "enter the value of n5\n",
            "sum=  55\n"
          ]
        }
      ]
    },
    {
      "cell_type": "markdown",
      "source": [
        "### Q8:- Given the first 2 terms of an Arithmetic Series.Find the Nth term of the series. Assume all inputs are provided by the user."
      ],
      "metadata": {
        "id": "FHrMM7g-yG1h"
      }
    },
    {
      "cell_type": "code",
      "source": [
        "a = int(input(\"enter the 1st term\"))\n",
        "b = int(input(\"enter the 2nd term\"))\n",
        "n = int(input(\"enter the nth term\"))\n",
        "d = b-a\n",
        "\n",
        "nth = (a+(n-1)*d)\n",
        "\n",
        "print(\"Nth term = \",nth)\n"
      ],
      "metadata": {
        "id": "go4_kmZmyVSx",
        "colab": {
          "base_uri": "https://localhost:8080/"
        },
        "outputId": "ea670e9c-756c-471c-b609-a1a7327062b6"
      },
      "execution_count": 10,
      "outputs": [
        {
          "output_type": "stream",
          "name": "stdout",
          "text": [
            "enter the 1st term1\n",
            "enter the 2nd term5\n",
            "enter the nth term9\n",
            "Nth term =  33\n"
          ]
        }
      ]
    }
  ]
}