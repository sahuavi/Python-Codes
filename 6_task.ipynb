{
  "nbformat": 4,
  "nbformat_minor": 0,
  "metadata": {
    "colab": {
      "provenance": [],
      "include_colab_link": true
    },
    "kernelspec": {
      "name": "python3",
      "display_name": "Python 3"
    },
    "language_info": {
      "name": "python"
    }
  },
  "cells": [
    {
      "cell_type": "markdown",
      "metadata": {
        "id": "view-in-github",
        "colab_type": "text"
      },
      "source": [
        "<a href=\"https://colab.research.google.com/github/sahuavi/Python-Codes/blob/main/6_task.ipynb\" target=\"_parent\"><img src=\"https://colab.research.google.com/assets/colab-badge.svg\" alt=\"Open In Colab\"/></a>"
      ]
    },
    {
      "cell_type": "markdown",
      "source": [
        "### **`Problem-1:`** Write a Python function that takes a list and returns a new list with unique elements of the first list.\n",
        "\n",
        "**Exercise 1:**\n",
        "\n",
        "Input:\n",
        "\n",
        "```bash\n",
        "[1,2,3,3,3,3,4,5]\n",
        "```\n",
        "\n",
        "Output:\n",
        "\n",
        "```bash\n",
        "[1, 2, 3, 4, 5]\n",
        "```"
      ],
      "metadata": {
        "id": "h6dDSW5XGZFi"
      }
    },
    {
      "cell_type": "code",
      "source": [
        "def return_unique(L):\n",
        "  res = []\n",
        "  for i in L:\n",
        "    if i not in res:\n",
        "      res.append(i)\n",
        "  return res\n",
        "L = [1,2,3,3,3,3,4,5]\n",
        "return_unique(L)"
      ],
      "metadata": {
        "id": "R5pq1C9LGe1y",
        "outputId": "dde5b823-b1a3-467b-cedb-62428c90f206",
        "colab": {
          "base_uri": "https://localhost:8080/"
        }
      },
      "execution_count": null,
      "outputs": [
        {
          "output_type": "execute_result",
          "data": {
            "text/plain": [
              "[1, 2, 3, 4, 5]"
            ]
          },
          "metadata": {},
          "execution_count": 2
        }
      ]
    },
    {
      "cell_type": "markdown",
      "source": [
        "### **`Problem-2:`** Write a Python function that accepts a hyphen-separated sequence of words as parameter and returns the words in a hyphen-separated sequence after sorting them alphabetically.\n",
        "\n",
        "**Example 1:**\n",
        "\n",
        "Input:\n",
        "```bash\n",
        "green-red-yellow-black-white\n",
        "```\n",
        "\n",
        "Output:\n",
        "```bash\n",
        "black-green-red-white-yellow\n",
        "```"
      ],
      "metadata": {
        "id": "UxQ_VoyJGwHj"
      }
    },
    {
      "cell_type": "code",
      "source": [
        "def sort_seq(seq):\n",
        "  temp = []\n",
        "  for i in sorted(seq.split('-')):\n",
        "    temp.append(i)\n",
        "  return \"-\".join(temp)\n",
        "\n",
        "\n",
        "s = 'black-green-red-white-yellow'\n",
        "sort_seq(s)"
      ],
      "metadata": {
        "id": "AAts2m5zGwiQ",
        "outputId": "338d71b5-d151-40d6-95bb-ff9f827841a1",
        "colab": {
          "base_uri": "https://localhost:8080/",
          "height": 35
        }
      },
      "execution_count": null,
      "outputs": [
        {
          "output_type": "execute_result",
          "data": {
            "text/plain": [
              "'black-green-red-white-yellow'"
            ],
            "application/vnd.google.colaboratory.intrinsic+json": {
              "type": "string"
            }
          },
          "metadata": {},
          "execution_count": 5
        }
      ]
    },
    {
      "cell_type": "markdown",
      "source": [
        "### **`Problem 3:`** Write a Python function that accepts a string and calculate the number of upper case letters and lower case letters.\n",
        "\n",
        "```\n",
        "Sample String : 'CampusX is an Online Mentorship Program fOr EnginEering studentS.'\n",
        "Expected Output :\n",
        "No. of Upper case characters :  9\n",
        "No. of Lower case Characters :  47\n",
        "```"
      ],
      "metadata": {
        "id": "IRGH62S7Gx_n"
      }
    },
    {
      "cell_type": "code",
      "source": [
        "def uppr_lower(s):\n",
        "  lower_cnt = 0\n",
        "  uppr_cnt = 0\n",
        "  for i in s:\n",
        "    if i.islower():\n",
        "      lower_cnt += 1\n",
        "    elif i.isupper():\n",
        "      uppr_cnt += 1\n",
        "    else:\n",
        "      pass\n",
        "  return lower_cnt,uppr_cnt\n",
        "s = 'CampusX is an Online Mentorship Program fOr EnginEering studentS.'\n",
        "\n",
        "x,y = uppr_lower(s)\n",
        "\n",
        "print('No. of Upper case characters :',x)\n",
        "print('No. of Lower case Characters :',y)\n",
        "\n",
        "\n"
      ],
      "metadata": {
        "id": "OaUrD8vVG5o8",
        "outputId": "616ca391-3d39-482b-d69a-b07f3db42d3d",
        "colab": {
          "base_uri": "https://localhost:8080/"
        }
      },
      "execution_count": null,
      "outputs": [
        {
          "output_type": "stream",
          "name": "stdout",
          "text": [
            "No. of Upper case characters : 47\n",
            "No. of Lower case Characters : 9\n"
          ]
        }
      ]
    },
    {
      "cell_type": "markdown",
      "source": [
        "### **`Problem 4:`** Write a Python program to print the even numbers from a given list.\n",
        "```\n",
        "Sample List : [1, 2, 3, 4, 5, 6, 7, 8, 9]\n",
        "Expected Result : [2, 4, 6, 8]\n",
        "```"
      ],
      "metadata": {
        "id": "V1BFFdYQG7Sn"
      }
    },
    {
      "cell_type": "code",
      "source": [
        "def is_even(L):\n",
        "  res = []\n",
        "  for i in L:\n",
        "    if i%2==0:\n",
        "      res.append(i)\n",
        "  return res\n",
        "L = [1, 2, 3, 4, 5, 6, 7, 8, 9]\n",
        "\n",
        "is_even(L)"
      ],
      "metadata": {
        "id": "VvAReLoDG_Z3",
        "outputId": "0ef1de25-e77a-4a3b-dd85-3af12ffbe21d",
        "colab": {
          "base_uri": "https://localhost:8080/"
        }
      },
      "execution_count": null,
      "outputs": [
        {
          "output_type": "execute_result",
          "data": {
            "text/plain": [
              "[2, 4, 6, 8]"
            ]
          },
          "metadata": {},
          "execution_count": 7
        }
      ]
    },
    {
      "cell_type": "markdown",
      "source": [
        "### **`Problem-6:`** Write a Python function to concatenate any no of dictionaries to create a new one.\n",
        "\n",
        "```\n",
        "Sample Dictionary :\n",
        "dic1={1:10, 2:20}\n",
        "dic2={3:30, 4:40}\n",
        "dic3={5:50,6:60}\n",
        "Expected Result : {1: 10, 2: 20, 3: 30, 4: 40, 5: 50, 6: 60}\n",
        "```"
      ],
      "metadata": {
        "id": "oZdpcG77HO-6"
      }
    },
    {
      "cell_type": "code",
      "source": [
        "def merge_dic(*args):\n",
        "  d = {}\n",
        "\n",
        "  for i in args:\n",
        "    d.update(i)\n",
        "  return d\n",
        "dic1={1:10, 2:20}\n",
        "dic2={3:30, 4:40}\n",
        "dic3={5:50,6:60}\n",
        "\n",
        "merge_dic(dic1,dic2,dic3)\n"
      ],
      "metadata": {
        "id": "LQgfAY4ZHPhj",
        "outputId": "d3a8ee93-0120-43c4-9f80-05cfe7513e14",
        "colab": {
          "base_uri": "https://localhost:8080/"
        }
      },
      "execution_count": null,
      "outputs": [
        {
          "output_type": "execute_result",
          "data": {
            "text/plain": [
              "{1: 10, 2: 20, 3: 30, 4: 40, 5: 50, 6: 60}"
            ]
          },
          "metadata": {},
          "execution_count": 8
        }
      ]
    },
    {
      "cell_type": "markdown",
      "source": [
        "`Problem-7` Write a python function that accepts a string as input and returns the word with most occurence.\n",
        "\n",
        "```\n",
        "Input:\n",
        "hello how are you i am fine thank you\n",
        "```\n",
        "\n",
        "```\n",
        "Output\n",
        "you -> 2\n",
        "```"
      ],
      "metadata": {
        "id": "jQ6SzbCkHRd0"
      }
    },
    {
      "cell_type": "code",
      "source": [
        "def str_occ(s):\n",
        "  d = {}\n",
        "  for i in s.split():\n",
        "    if i in d:\n",
        "      d[i] = d[i]+1\n",
        "    else:\n",
        "      d[i] = 1\n",
        "  max_val = max(d.values())\n",
        "  for i in d:\n",
        "    if d[i] == max_val:\n",
        "      print(i,'->',d[i])\n",
        "      break\n",
        "str_occ('hello how are you i am fine thank you')"
      ],
      "metadata": {
        "id": "Lh04JHLzIW7Z",
        "outputId": "360a3a6c-e548-4b3a-c656-f13f197870c9",
        "colab": {
          "base_uri": "https://localhost:8080/"
        }
      },
      "execution_count": null,
      "outputs": [
        {
          "output_type": "stream",
          "name": "stdout",
          "text": [
            "you -> 2\n"
          ]
        }
      ]
    }
  ]
}